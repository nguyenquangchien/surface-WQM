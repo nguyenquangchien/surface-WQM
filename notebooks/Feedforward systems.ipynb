{
 "cells": [
  {
   "cell_type": "markdown",
   "metadata": {},
   "source": [
    "# Lecture 5: Feedforward systems of reactors\n",
    "\n",
    "## Cascade models\n",
    "\n",
    "For a cascade of CSTRs (equally-sized) the concentrations can be represented as:\n",
    "\n",
    "$$ c_n = \\left( \\frac{Q}{Q + kV} \\right)^n c_0 $$\n",
    "\n",
    "in which _n_ is the sequential index of the reactor, _k_ the decay rate, _Q_ the flow rate, and _V_ the reactor volume.\n",
    "\n",
    "### Example 5.2\n",
    "\n",
    "Try calculating for _n_ = 8 reactors"
   ]
  },
  {
   "cell_type": "code",
   "execution_count": 19,
   "metadata": {},
   "outputs": [],
   "source": [
    "Ac = 10  # m2\n",
    "L = 100  # m\n",
    "U = 100  # m/h\n",
    "k = 2    # 1/h\n",
    "c0 = 1   # mg/L \n",
    "n = 8\n",
    "\n",
    "Q = Ac * U  # m3/h\n",
    "V = Ac * L / n # m3\n",
    "\n",
    "c = [0]*n\n",
    "pos = [0]*n\n",
    "for i in range(n):\n",
    "    j = i + 1\n",
    "    pos[i] = (i + 0.5)*L/n\n",
    "    c[i] = c0 * (Q / (Q + k*V))**j"
   ]
  },
  {
   "cell_type": "code",
   "execution_count": 20,
   "metadata": {},
   "outputs": [
    {
     "data": {
      "image/png": "[encoded data removed]",
      "text/plain": [
       "<Figure size 432x288 with 1 Axes>"
      ]
     },
     "metadata": {
      "needs_background": "light"
     },
     "output_type": "display_data"
    }
   ],
   "source": [
    "import matplotlib.pyplot as plt\n",
    "%matplotlib inline \n",
    "\n",
    "plt.plot(pos, c, 'o')\n",
    "plt.xlabel('x')\n",
    "plt.ylabel('c')\n",
    "plt.grid()"
   ]
  },
  {
   "cell_type": "code",
   "execution_count": 16,
   "metadata": {},
   "outputs": [
    {
     "data": {
      "text/plain": [
       "[0.3333333333333333, 0.1111111111111111]"
      ]
     },
     "execution_count": 16,
     "metadata": {},
     "output_type": "execute_result"
    }
   ],
   "source": [
    "c"
   ]
  },
  {
   "cell_type": "code",
   "execution_count": null,
   "metadata": {},
   "outputs": [],
   "source": []
  }
 ],
 "metadata": {
  "kernelspec": {
   "display_name": "Python 3",
   "language": "python",
   "name": "python3"
  },
  "language_info": {
   "codemirror_mode": {
    "name": "ipython",
    "version": 3
   },
   "file_extension": ".py",
   "mimetype": "text/x-python",
   "name": "python",
   "nbconvert_exporter": "python",
   "pygments_lexer": "ipython3",
   "version": "3.7.6"
  }
 },
 "nbformat": 4,
 "nbformat_minor": 4
}
